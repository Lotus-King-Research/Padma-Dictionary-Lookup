{
 "cells": [
  {
   "cell_type": "code",
   "execution_count": 1,
   "metadata": {},
   "outputs": [],
   "source": [
    "from tibetan_lookup.build_dictionary import BuildDictionary\n",
    "\n",
    "dictionaries = BuildDictionary(mahavyutpatti=True,\n",
    "                               tony_duff=True,\n",
    "                               erik_pema_kunsang=True,\n",
    "                               ives_waldo=True,\n",
    "                               jeffrey_hopkins=True,\n",
    "                               lobsang_monlam=True,\n",
    "                               tibetan_multi=True,\n",
    "                               tibetan_medicine=True,\n",
    "                               verb_lexicon=True)\n",
    "\n",
    "dictionary_names = ['mahavyutpatti',\n",
    "                    'tony_duff',\n",
    "                    'erik_pema_kunsang',\n",
    "                    'ives_waldo',\n",
    "                    'jeffrey_hopkins',\n",
    "                    'lobsang_monlam',\n",
    "                    'tibetan_multi',\n",
    "                    'tibetan_medicine',\n",
    "                    'verb_lexicon']"
   ]
  },
  {
   "cell_type": "code",
   "execution_count": 2,
   "metadata": {},
   "outputs": [
    {
     "data": {
      "text/plain": [
       "['{sangs rgyas kyi mtshan}༼noun༽phrase༽ «Name(s) of the Buddha». The buddha had many epithets.  The following are listed in the [MVP].  See each for more information.<br/>1) སངས་རྒྱས་; 2) བཅོམ་ལྡན་འདས་; 3) དེ་བཞིན་གཤེགས་པ་; 4) དགྲ་བཅོམ་པ་; 5) ཡང་དག་པར་རྫོགས་པའི་སངས་རྒྱས་; 6) རིག་པ་དང་ཞབས་སུ་ལྡན་པ་; 7) བདེ་བར་གཤེགས་པ་; 8) འཇིག་རྟེན་མཁྱེན་པ་; 9) སྐྱེས་བུ་འདུལ་བའི་ཁ་ལོ་སྒྱུར་བ་བླ་ན་མེད་པ་; 10) སྟོན་པ་; 11) རྒྱལ་བ་; 12) འཇིག་རྟེན་གྱི་གཙོ་བོ་; 13) ཐམས་ཅད་མཁྱེན་པ་; 14) སྐྱོབ་པ་; 15) ལྷའི་ཡང་ལྷ་; 16) དྲང་སྲོང་ཆེན་པོ་; 17) ཆོས་ཀྱི་རྗེ་; 18) ཁྱུ་མཆོག་; 19) འདྲེན་པ་; 20) ཡོངས་སུ་འདྲེན་པ་; 21) རྣམ་པར་འདྲེན་པ་; 22) གཉིས་སུ་མེད་པ་གསུང་བ་; 23) ཟས་གཙང་གི་སྲས་; 24) སྟོབས་བཅུ་པ་; 25) བསྲུང་མཛད་; 26) བདག་ཉིད་ཆེན་པོ་; 27) རྣམ་པར་རྒྱལ་བ་མངའ་; 28) ཁྱབ་བདག་; 29) ཐམས་ཅད་སྒྲོལ་; 30) ཆོས་ཐམས་ཅད་ཀྱི་དབང་ཕྱུག་; 31) རྣམ་པར་མཛེས་; 32) བརྟན་པ་; 33) ཡོན་ཏན་རྒྱ་མཚོ་; 34) སྐྱབས་འོས་; 35) སྐྱབས་; 36) སྨྲ་བའི་སེང་གེ་; 37) མི་མཆོག་; 38) བདུད་ཟིལ་གྱིས་གནོན་; 39) གང་ཟག་ཟླ་མེད་པ་; 40) སྐྱོན་བསལ་བ་; 41) དུག་བཅོམ་པ་; 42) ལུས་མེད་ཐུལ་; 43) མངོན་པར་ཤེས་པ་དྲུག་དང་ལྡན་པ་; 44) སྲིད་མཐར་ཕྱིན་; 45) སྡིག་འཇོམས་; 46) དོན་གྲུབ་; 47) ཤཱཀྱ་སེང་གེ་; 48) མཆོག་སྦྱིན་; 49) དཔའ་བ་; 50) ཞི་བར་མཛད་པ་; 51) སྡིག་པ་ཞི་བ་; 52) བསིལ་བར་གྱུར་པ་; 53) ཤེས་མཛད་; 54) རྩོད་མེད་; 55) བདག་གི་བ་མེད་པ་; 56) མཚོན་པ་; 57) ཁ་ན་མ་ཐོ་བ་མི་མངའ་བ་; 58) བསྙེངས་པ་མི་མངའ་བ་; 59) སྲེད་པ་དང་བྲལ་བ་; 60) ལེན་པ་མི་མངའ་བ་; 61) རྣམ་པར་གྲགས་པ་; 62) དགེ་བའི་ཆོས་ཀྱི་འབྱུང་གནས་; 63) གཙང་བ་; 64) དཔེ་མེད་པ་; 65) དུས་གསུམ་མཁྱེན་པ་; 66) གསུང་ལྡན་; 67) ཉེས་གསུམ་འཇོམས་པ་; 68) ཆོ་འཕྲུལ་གསུམ་དང་ལྡན་པ་; 69) དྲི་མ་མེད་པ་; 70) ཕུང་པོ་གསུམ་གྱི་ལམ་སྟོན་པ་; 71) ནད་མི་མངའ་བ་; 72) ཉི་མའི་རིགས་; 73) གཽཏམ་; 74) བུ་རམ་ཤིང་པའི་རིགས་དགའ་པ་; 75) མངའ་བདག་.']"
      ]
     },
     "execution_count": 2,
     "metadata": {},
     "output_type": "execute_result"
    }
   ],
   "source": [
    "dictionaries.query('སངས་རྒྱས་ཀྱི་མཚན་', 'tony_duff')"
   ]
  },
  {
   "cell_type": "code",
   "execution_count": 5,
   "metadata": {},
   "outputs": [
    {
     "data": {
      "text/plain": [
       "['1) name [h]; 2) night; 3) characteristic; 4) a med. herb, mark, sign, token, badge, symptom, symbol']"
      ]
     },
     "execution_count": 5,
     "metadata": {},
     "output_type": "execute_result"
    }
   ],
   "source": [
    "dictionaries.query('མཚན་', 'ives_waldo')"
   ]
  },
  {
   "cell_type": "code",
   "execution_count": 4,
   "metadata": {},
   "outputs": [
    {
     "data": {
      "text/plain": [
       "['[s:Buddha] supreme intelligence {1/1 one of སངས་རྒྱས་ཀྱི་མཚན་ (I)}']"
      ]
     },
     "execution_count": 4,
     "metadata": {},
     "output_type": "execute_result"
    }
   ],
   "source": [
    "dictionaries.query('སངས་རྒྱས་', 'mahavyutpatti')"
   ]
  }
 ],
 "metadata": {
  "kernelspec": {
   "display_name": "Python 3",
   "language": "python",
   "name": "python3"
  },
  "language_info": {
   "codemirror_mode": {
    "name": "ipython",
    "version": 3
   },
   "file_extension": ".py",
   "mimetype": "text/x-python",
   "name": "python",
   "nbconvert_exporter": "python",
   "pygments_lexer": "ipython3",
   "version": "3.8.5"
  }
 },
 "nbformat": 4,
 "nbformat_minor": 4
}
