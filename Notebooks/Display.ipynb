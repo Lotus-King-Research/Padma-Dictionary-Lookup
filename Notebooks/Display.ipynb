{
 "cells": [
  {
   "cell_type": "code",
   "execution_count": 1,
   "metadata": {},
   "outputs": [],
   "source": [
    "from tibetan_lookup.BuildDictionary import BuildDictionary\n",
    "from tibetan_lookup.utils.modify_input_string import modify_input_string\n",
    "\n",
    "tibetan = BuildDictionary(debug_true=True)"
   ]
  },
  {
   "cell_type": "code",
   "execution_count": 2,
   "metadata": {},
   "outputs": [],
   "source": [
    "def print_tibetan(string,\n",
    "                  source,\n",
    "                  return_html=False,\n",
    "                  debug=False):\n",
    "    \n",
    "    from IPython.core.display import HTML\n",
    "    from botok import Text\n",
    "\n",
    "    string = modify_input_string(string)\n",
    "    t = Text(string)\n",
    "    tokens = t.tokenize_words_raw_text.split()\n",
    "    \n",
    "    html = '<link rel=\"stylesheet\" href=\"assets/style.css\"><style type=\"text/css\">'\n",
    "    html += '<style></style>'\n",
    "    counter = 1\n",
    "\n",
    "    for i, token in enumerate(tokens):\n",
    "\n",
    "        token = token.replace('_', ' ')\n",
    "        original_token = token\n",
    "        \n",
    "        try:\n",
    "            if tokens[i+1].endswith('འི་'):\n",
    "                token += '་'\n",
    "        except IndexError:\n",
    "            pass\n",
    "            \n",
    "        if counter % 2 == 0:\n",
    "            style = 'tibetan-even'\n",
    "        else:\n",
    "            style = 'tibetan-odd'\n",
    "        \n",
    "        if debug:\n",
    "            return tibetan.lookup(token)[source]\n",
    "        \n",
    "        try:\n",
    "            text = str(tibetan.lookup(token)[source])\n",
    "            \n",
    "            html += '<div class=\"tooltip-ex ' + style + '\"><span>' + original_token + '</span><span class=\"tooltip-ex-text\">' + text  + '</span></div>'\n",
    "        except (TypeError, KeyError):\n",
    "            print(token)\n",
    "            html += '<span class=\"' + style + '\">' + original_token + '</span>'\n",
    "\n",
    "        counter += 1\n",
    "        \n",
    "    html += '<br>'\n",
    "\n",
    "    display(HTML(html))\n",
    "    \n",
    "    if return_html:\n",
    "        return html"
   ]
  },
  {
   "cell_type": "code",
   "execution_count": 3,
   "metadata": {},
   "outputs": [],
   "source": [
    "s = 'ཐེག་ཆེན་བསྟན་པའི་སྙིང་པོའི་གཞུང་ལེགས་བཤད་ལུང་གི་རྒྱ་མཚོ་མཁན་ཆེན་དཀོན་མཆོག་རྒྱལ་མཚན་བཀའ་ཁྲིད་གནང་བ།'"
   ]
  },
  {
   "cell_type": "code",
   "execution_count": 4,
   "metadata": {},
   "outputs": [
    {
     "name": "stdout",
     "output_type": "stream",
     "text": [
      "Loading Trie... (1s.)\n"
     ]
    },
    {
     "data": {
      "text/html": [
       "<link rel=\"stylesheet\" href=\"assets/style.css\"><style type=\"text/css\"><style></style><div class=\"tooltip-ex tibetan-odd\"><span>ཐེག་ཆེན་</span><span class=\"tooltip-ex-text\">{'ཐེག་ཆེན་': ['Great Vehicle', 'mahayana, greater vehicle, superior spiritual pursuit, supreme comprehensive approach, Great Vehicle']}</span></div><div class=\"tooltip-ex tibetan-even\"><span>བསྟན་པ</span><span class=\"tooltip-ex-text\">{'བསྟན་པ་': ['teach; show; demonstrate; indicate\\x0bnoun: teaching; taught', '{C}view; false view; being seen; exhibiting; exhibition; act of gazing; definite statement; definition; teaches; speaks; says; declares; what has been taught; aid; is pointed out; is recognized; is expounded; is explained; explain; exposition; desquisitio', 'teaching, religion, doctrine, doctrinal teaching, system of doctrines, point out, directed, facing, shown, the doctrine or teaching of the Buddha, demonstration, to treat, to show, reveal, to be indicated by, to disclose, to display, to face toward, to tr']}</span></div><div class=\"tooltip-ex tibetan-odd\"><span>འི་</span><span class=\"tooltip-ex-text\">{'འི་': [\"genetive particle: of; 's; which is; that is. (as genitive particle) of; by; in; which. (as non-case particle) and; but; (semi-colon)\", 'SA kyi']}</span></div><div class=\"tooltip-ex tibetan-even\"><span>སྙིང་པོ</span><span class=\"tooltip-ex-text\">{'སྙིང་པོ་': ['essence; {T} matrix', '{C}enshrining; womb; embryo; place; seat; core; substance; substantial excellence; lack of a core; unsubstantiality; wick', 'core (-, reality, teaching), womb, heart, intrinsic character, essence, the very essence, quintessence, quintessential state, essential nature, motive force, meaning, inner reality, epitome, energy pulse, abstract, (reference to atiyoga), pith, flower, th']}</span></div><div class=\"tooltip-ex tibetan-odd\"><span>འི་</span><span class=\"tooltip-ex-text\">{'འི་': [\"genetive particle: of; 's; which is; that is. (as genitive particle) of; by; in; which. (as non-case particle) and; but; (semi-colon)\", 'SA kyi']}</span></div><div class=\"tooltip-ex tibetan-even\"><span>གཞུང་</span><span class=\"tooltip-ex-text\">{'གཞུང་': ['text; central; government', 'shastra, texts, middle, center, government, executive, literary work, original text, exposition, lengthwise, government, rites, tradition, text']}</span></div><div class=\"tooltip-ex tibetan-odd\"><span>ལེགས་བཤད་</span><span class=\"tooltip-ex-text\">{'ལེགས་བཤད་': ['good explanation(s); well-explained', '(significant, moral, nice) sayings, (text 6149 by tsong kha pa), elegant description, good writings, moral lessons, elegant sayings']}</span></div><div class=\"tooltip-ex tibetan-even\"><span>ལུང་</span><span class=\"tooltip-ex-text\">{'ལུང་': ['scripture; oral transmission; passage; precept; injunction; spiritual instruction', 'canonical text; coming; {GD:748} verbal testimony', 'shastra, stamp, handle, tradition, precepts, (-, reading) transmission, instruction, permission, scripture, sacred story, epic, text, prophecy, scriptural (tradition, authority), behest, authorization from hearing text, read aloud, holder, carrying sling,']}</span></div><div class=\"tooltip-ex tibetan-odd\"><span>གི་</span><span class=\"tooltip-ex-text\">{'གི་': ['(as genitive particle) of; by; in; which. (as non-case particle) and; but; (semi-colon)', \"of, (-'s) affix instead of kyi after ga and nga, SA kyi of, genitive particle, related to\"]}</span></div><div class=\"tooltip-ex tibetan-even\"><span>རྒྱ་མཚོ་</span><span class=\"tooltip-ex-text\">{'རྒྱ་མཚོ་': ['[vast-lake]; ocean; large lake', '{C}great flood', 'ocean, sea, dropsy, ocean, infinite, countless, eyes']}</span></div><div class=\"tooltip-ex tibetan-odd\"><span>མཁན་ཆེན་</span><span class=\"tooltip-ex-text\">{'མཁན་ཆེན་': ['archbishop, great abbot']}</span></div><div class=\"tooltip-ex tibetan-even\"><span>དཀོན་མཆོག་</span><span class=\"tooltip-ex-text\">{'དཀོན་མཆོག་': ['jewel; supreme rarity', '{C}precious jewel; precious substance; treasure', 'the greatest rarity, deity, any precious object, anything very excellent or best of its kind, chief of rarities, rarest being or object, supreme being']}</span></div><div class=\"tooltip-ex tibetan-odd\"><span>རྒྱལ་མཚན་</span><span class=\"tooltip-ex-text\">{'རྒྱལ་མཚན་': ['victory banner', '{C}banner; ensign; flag', 'standard (erected on summit of mount Meru) 1 of 28 astrological terms for harmony of influence in the destiny of a person, standard of victory, armorial flag, banner of victory in buddhism, personal name, decoration in colors on flagstaff or pole, victory']}</span></div><div class=\"tooltip-ex tibetan-even\"><span>བཀའ་</span><span class=\"tooltip-ex-text\">{'བཀའ་': ['word; saying; teaching; order; word [of Buddha]', 'inspiration, command, order, oral explanation, precepts, behest, tribe in tibet, word, speech, pronouncements of buddha, dictates, teaching, transmitted precepts, instruction']}</span></div><div class=\"tooltip-ex tibetan-odd\"><span>ཁྲིད་</span><span class=\"tooltip-ex-text\">{'ཁྲིད་': ['lead; lead through; guide \\x0bas noun: leader; instruction', 'having led him to a Highest [Pure]', \"'og min du khrid de\", \"counsel, guidance, instructions, commentaries, explanation, lead, accompanied by, bringing with, instruction, tutelage, row, order, serial arrangement, SA 'khrid pa, instruction, past of 'khrid, explanation, guiding explanation, guidance\"]}</span></div><div class=\"tooltip-ex tibetan-even\"><span>གནང་བ་</span><span class=\"tooltip-ex-text\">{'གནང་བ་': ['give; grant; make', 'grant permission, give, grant, bestow, confer, restore, concede, allow, permit, approve of, assent to, allocate, allot, award, do, endow, let, permission, teach']}</span></div><br>"
      ],
      "text/plain": [
       "<IPython.core.display.HTML object>"
      ]
     },
     "metadata": {},
     "output_type": "display_data"
    }
   ],
   "source": [
    "print_tibetan(s,'lobsang_monlam')"
   ]
  },
  {
   "cell_type": "code",
   "execution_count": null,
   "metadata": {},
   "outputs": [],
   "source": []
  },
  {
   "cell_type": "code",
   "execution_count": null,
   "metadata": {},
   "outputs": [],
   "source": []
  },
  {
   "cell_type": "code",
   "execution_count": null,
   "metadata": {},
   "outputs": [],
   "source": []
  },
  {
   "cell_type": "code",
   "execution_count": null,
   "metadata": {},
   "outputs": [],
   "source": []
  },
  {
   "cell_type": "code",
   "execution_count": null,
   "metadata": {},
   "outputs": [],
   "source": []
  },
  {
   "cell_type": "code",
   "execution_count": null,
   "metadata": {},
   "outputs": [],
   "source": []
  },
  {
   "cell_type": "code",
   "execution_count": null,
   "metadata": {},
   "outputs": [],
   "source": []
  },
  {
   "cell_type": "code",
   "execution_count": 75,
   "metadata": {},
   "outputs": [
    {
     "data": {
      "text/html": [
       "<link rel=\"stylesheet\" href=\"assets/style.css\"><style type=\"text/css\"><style></style><div class=\"tooltip-ex tibetan-odd\"><span>ཐེག་ཆེན་</span><span class=\"tooltip-ex-text\">{'ཐེག་ཆེན་': ['Great Vehicle', 'mahayana, greater vehicle, superior spiritual pursuit, supreme comprehensive approach, Great Vehicle']}</span></div><div class=\"tooltip-ex tibetan-even\"><span>བསྟན་པ</span><span class=\"tooltip-ex-text\">{'བསྟན་པ་': ['teach; show; demonstrate; indicate\\x0bnoun: teaching; taught', '{C}view; false view; being seen; exhibiting; exhibition; act of gazing; definite statement; definition; teaches; speaks; says; declares; what has been taught; aid; is pointed out; is recognized; is expounded; is explained; explain; exposition; desquisitio', 'teaching, religion, doctrine, doctrinal teaching, system of doctrines, point out, directed, facing, shown, the doctrine or teaching of the Buddha, demonstration, to treat, to show, reveal, to be indicated by, to disclose, to display, to face toward, to tr']}</span></div><div class=\"tooltip-ex tibetan-odd\"><span>འི་</span><span class=\"tooltip-ex-text\">{'འི་': [\"genetive particle: of; 's; which is; that is. (as genitive particle) of; by; in; which. (as non-case particle) and; but; (semi-colon)\", 'SA kyi']}</span></div><div class=\"tooltip-ex tibetan-even\"><span>སྙིང་པོ</span><span class=\"tooltip-ex-text\">{'སྙིང་པོ་': ['essence; {T} matrix', '{C}enshrining; womb; embryo; place; seat; core; substance; substantial excellence; lack of a core; unsubstantiality; wick', 'core (-, reality, teaching), womb, heart, intrinsic character, essence, the very essence, quintessence, quintessential state, essential nature, motive force, meaning, inner reality, epitome, energy pulse, abstract, (reference to atiyoga), pith, flower, th']}</span></div><div class=\"tooltip-ex tibetan-odd\"><span>འི་</span><span class=\"tooltip-ex-text\">{'འི་': [\"genetive particle: of; 's; which is; that is. (as genitive particle) of; by; in; which. (as non-case particle) and; but; (semi-colon)\", 'SA kyi']}</span></div><div class=\"tooltip-ex tibetan-even\"><span>གཞུང་</span><span class=\"tooltip-ex-text\">{'གཞུང་': ['text; central; government', 'shastra, texts, middle, center, government, executive, literary work, original text, exposition, lengthwise, government, rites, tradition, text']}</span></div><div class=\"tooltip-ex tibetan-odd\"><span>ལེགས་བཤད་</span><span class=\"tooltip-ex-text\">{'ལེགས་བཤད་': ['good explanation(s); well-explained', '(significant, moral, nice) sayings, (text 6149 by tsong kha pa), elegant description, good writings, moral lessons, elegant sayings']}</span></div><div class=\"tooltip-ex tibetan-even\"><span>ལུང་</span><span class=\"tooltip-ex-text\">{'ལུང་': ['scripture; oral transmission; passage; precept; injunction; spiritual instruction', 'canonical text; coming; {GD:748} verbal testimony', 'shastra, stamp, handle, tradition, precepts, (-, reading) transmission, instruction, permission, scripture, sacred story, epic, text, prophecy, scriptural (tradition, authority), behest, authorization from hearing text, read aloud, holder, carrying sling,']}</span></div><div class=\"tooltip-ex tibetan-odd\"><span>གི་</span><span class=\"tooltip-ex-text\">{'གི་': ['(as genitive particle) of; by; in; which. (as non-case particle) and; but; (semi-colon)', \"of, (-'s) affix instead of kyi after ga and nga, SA kyi of, genitive particle, related to\"]}</span></div><div class=\"tooltip-ex tibetan-even\"><span>རྒྱ་མཚོ་</span><span class=\"tooltip-ex-text\">{'རྒྱ་མཚོ་': ['[vast-lake]; ocean; large lake', '{C}great flood', 'ocean, sea, dropsy, ocean, infinite, countless, eyes']}</span></div><div class=\"tooltip-ex tibetan-odd\"><span>མཁན་ཆེན་</span><span class=\"tooltip-ex-text\">{'མཁན་ཆེན་': ['archbishop, great abbot']}</span></div><div class=\"tooltip-ex tibetan-even\"><span>དཀོན་མཆོག་</span><span class=\"tooltip-ex-text\">{'དཀོན་མཆོག་': ['jewel; supreme rarity', '{C}precious jewel; precious substance; treasure', 'the greatest rarity, deity, any precious object, anything very excellent or best of its kind, chief of rarities, rarest being or object, supreme being']}</span></div><div class=\"tooltip-ex tibetan-odd\"><span>རྒྱལ་མཚན་</span><span class=\"tooltip-ex-text\">{'རྒྱལ་མཚན་': ['victory banner', '{C}banner; ensign; flag', 'standard (erected on summit of mount Meru) 1 of 28 astrological terms for harmony of influence in the destiny of a person, standard of victory, armorial flag, banner of victory in buddhism, personal name, decoration in colors on flagstaff or pole, victory']}</span></div><div class=\"tooltip-ex tibetan-even\"><span>བཀའ་</span><span class=\"tooltip-ex-text\">{'བཀའ་': ['word; saying; teaching; order; word [of Buddha]', 'inspiration, command, order, oral explanation, precepts, behest, tribe in tibet, word, speech, pronouncements of buddha, dictates, teaching, transmitted precepts, instruction']}</span></div><div class=\"tooltip-ex tibetan-odd\"><span>ཁྲིད་</span><span class=\"tooltip-ex-text\">{'ཁྲིད་': ['lead; lead through; guide \\x0bas noun: leader; instruction', 'having led him to a Highest [Pure]', \"'og min du khrid de\", \"counsel, guidance, instructions, commentaries, explanation, lead, accompanied by, bringing with, instruction, tutelage, row, order, serial arrangement, SA 'khrid pa, instruction, past of 'khrid, explanation, guiding explanation, guidance\"]}</span></div><div class=\"tooltip-ex tibetan-even\"><span>གནང་བ་</span><span class=\"tooltip-ex-text\">{'གནང་བ་': ['give; grant; make', 'grant permission, give, grant, bestow, confer, restore, concede, allow, permit, approve of, assent to, allocate, allot, award, do, endow, let, permission, teach']}</span></div><br>"
      ],
      "text/plain": [
       "<IPython.core.display.HTML object>"
      ]
     },
     "metadata": {},
     "output_type": "display_data"
    }
   ],
   "source": [
    "# step 1\n",
    "#s = 'ཐེག་ཆེན་བསྟན་པའི་སྙིང་པོའི་གཞུང་ལེགས་བཤད་ལུང་གི་རྒྱ་མཚོ་མཁན་ཆེན་དཀོན་མཆོག་རྒྱལ་མཚན་བཀའ་ཁྲིད་གནང་བ།'\n",
    "print_tibetan(string=s,\n",
    "              source='lobsang_monlam')"
   ]
  },
  {
   "cell_type": "markdown",
   "metadata": {},
   "source": [
    "ཐུབ་བསྟན་              \n",
    "\n",
    "Buddha's teaching\n",
    "\n",
    "དོན་བརྒྱུད་\n",
    "actual transmission\n",
    "\n",
    "སྙིང་པོའི་\n",
    "essence\n",
    "\n",
    "བསྟན་སྲུང་\n",
    "guardian of the doctrine\n",
    "\n",
    "ཆོས་རྒྱས་\n",
    "spread Dharma\n",
    "\n",
    "སྐུ་ལྔའི་\n",
    "five bodies\n",
    "\n",
    "\n"
   ]
  },
  {
   "cell_type": "code",
   "execution_count": 2,
   "metadata": {},
   "outputs": [
    {
     "ename": "KeyboardInterrupt",
     "evalue": "",
     "output_type": "error",
     "traceback": [
      "\u001b[0;31m---------------------------------------------------------------------------\u001b[0m",
      "\u001b[0;31mKeyError\u001b[0m                                  Traceback (most recent call last)",
      "\u001b[0;32m~/dev/Tibetan-Lookup/tibetan_lookup/BuildDictionary.py\u001b[0m in \u001b[0;36m_query\u001b[0;34m(self, query, dictionary, partial_match)\u001b[0m\n\u001b[1;32m    135\u001b[0m         \u001b[0;32mtry\u001b[0m\u001b[0;34m:\u001b[0m\u001b[0;34m\u001b[0m\u001b[0;34m\u001b[0m\u001b[0m\n\u001b[0;32m--> 136\u001b[0;31m             \u001b[0mdictionary\u001b[0m \u001b[0;34m=\u001b[0m \u001b[0mself\u001b[0m\u001b[0;34m.\u001b[0m\u001b[0mdictionaries\u001b[0m\u001b[0;34m[\u001b[0m\u001b[0mdictionary\u001b[0m\u001b[0;34m]\u001b[0m\u001b[0;34m\u001b[0m\u001b[0;34m\u001b[0m\u001b[0m\n\u001b[0m\u001b[1;32m    137\u001b[0m \u001b[0;34m\u001b[0m\u001b[0m\n",
      "\u001b[0;31mKeyError\u001b[0m: 'tibetan_multi'",
      "\nDuring handling of the above exception, another exception occurred:\n",
      "\u001b[0;31mKeyboardInterrupt\u001b[0m                         Traceback (most recent call last)",
      "\u001b[0;32m<ipython-input-2-c564bd9c97ba>\u001b[0m in \u001b[0;36m<module>\u001b[0;34m\u001b[0m\n\u001b[1;32m      1\u001b[0m \u001b[0;31m# step 2\u001b[0m\u001b[0;34m\u001b[0m\u001b[0;34m\u001b[0m\u001b[0;34m\u001b[0m\u001b[0m\n\u001b[0;32m----> 2\u001b[0;31m tibetan.lookup('ཆོས་ཉིད་ཀྱི་ཀློང་', sources=['lobsang_monlam',\n\u001b[0m\u001b[1;32m      3\u001b[0m                                \u001b[0;34m'tony_duff'\u001b[0m\u001b[0;34m,\u001b[0m\u001b[0;34m\u001b[0m\u001b[0;34m\u001b[0m\u001b[0m\n\u001b[1;32m      4\u001b[0m                                \u001b[0;34m'mahavyutpatti'\u001b[0m\u001b[0;34m,\u001b[0m\u001b[0;34m\u001b[0m\u001b[0;34m\u001b[0m\u001b[0m\n\u001b[1;32m      5\u001b[0m                                \u001b[0;34m'verb_lexicon'\u001b[0m\u001b[0;34m,\u001b[0m\u001b[0;34m\u001b[0m\u001b[0;34m\u001b[0m\u001b[0m\n",
      "\u001b[0;32m~/dev/Tibetan-Lookup/tibetan_lookup/BuildDictionary.py\u001b[0m in \u001b[0;36mlookup\u001b[0;34m(self, string, sources, partial_match)\u001b[0m\n\u001b[1;32m    192\u001b[0m             \u001b[0;31m# exact match\u001b[0m\u001b[0;34m\u001b[0m\u001b[0;34m\u001b[0m\u001b[0;34m\u001b[0m\u001b[0m\n\u001b[1;32m    193\u001b[0m             \u001b[0;32melse\u001b[0m\u001b[0;34m:\u001b[0m\u001b[0;34m\u001b[0m\u001b[0;34m\u001b[0m\u001b[0m\n\u001b[0;32m--> 194\u001b[0;31m                 \u001b[0mout_dict\u001b[0m\u001b[0;34m[\u001b[0m\u001b[0msource\u001b[0m\u001b[0;34m]\u001b[0m \u001b[0;34m=\u001b[0m \u001b[0mself\u001b[0m\u001b[0;34m.\u001b[0m\u001b[0m_query\u001b[0m\u001b[0;34m(\u001b[0m\u001b[0mstring\u001b[0m\u001b[0;34m,\u001b[0m \u001b[0msource\u001b[0m\u001b[0;34m)\u001b[0m\u001b[0;34m\u001b[0m\u001b[0;34m\u001b[0m\u001b[0m\n\u001b[0m\u001b[1;32m    195\u001b[0m \u001b[0;34m\u001b[0m\u001b[0m\n\u001b[1;32m    196\u001b[0m         \u001b[0;31m# return a dictionary where first keys are sources\u001b[0m\u001b[0;34m\u001b[0m\u001b[0;34m\u001b[0m\u001b[0;34m\u001b[0m\u001b[0m\n",
      "\u001b[0;32m~/dev/Tibetan-Lookup/tibetan_lookup/BuildDictionary.py\u001b[0m in \u001b[0;36m_query\u001b[0;34m(self, query, dictionary, partial_match)\u001b[0m\n\u001b[1;32m    138\u001b[0m         \u001b[0;31m# if not, then load it and keep it\u001b[0m\u001b[0;34m\u001b[0m\u001b[0;34m\u001b[0m\u001b[0;34m\u001b[0m\u001b[0m\n\u001b[1;32m    139\u001b[0m         \u001b[0;32mexcept\u001b[0m \u001b[0mKeyError\u001b[0m\u001b[0;34m:\u001b[0m\u001b[0;34m\u001b[0m\u001b[0;34m\u001b[0m\u001b[0m\n\u001b[0;32m--> 140\u001b[0;31m             \u001b[0mself\u001b[0m\u001b[0;34m.\u001b[0m\u001b[0mdictionaries\u001b[0m\u001b[0;34m[\u001b[0m\u001b[0mdictionary\u001b[0m\u001b[0;34m]\u001b[0m  \u001b[0;34m=\u001b[0m \u001b[0mgetattr\u001b[0m\u001b[0;34m(\u001b[0m\u001b[0mself\u001b[0m\u001b[0;34m,\u001b[0m \u001b[0;34m\"_\"\u001b[0m \u001b[0;34m+\u001b[0m \u001b[0mdictionary\u001b[0m\u001b[0;34m)\u001b[0m\u001b[0;34m(\u001b[0m\u001b[0;34m)\u001b[0m\u001b[0;34m\u001b[0m\u001b[0;34m\u001b[0m\u001b[0m\n\u001b[0m\u001b[1;32m    141\u001b[0m             \u001b[0mdictionary\u001b[0m \u001b[0;34m=\u001b[0m \u001b[0mself\u001b[0m\u001b[0;34m.\u001b[0m\u001b[0mdictionaries\u001b[0m\u001b[0;34m[\u001b[0m\u001b[0mdictionary\u001b[0m\u001b[0;34m]\u001b[0m\u001b[0;34m\u001b[0m\u001b[0;34m\u001b[0m\u001b[0m\n\u001b[1;32m    142\u001b[0m \u001b[0;34m\u001b[0m\u001b[0m\n",
      "\u001b[0;32m~/dev/Tibetan-Lookup/tibetan_lookup/BuildDictionary.py\u001b[0m in \u001b[0;36m_tibetan_multi\u001b[0;34m(self)\u001b[0m\n\u001b[1;32m     87\u001b[0m         \u001b[0mtemp\u001b[0m \u001b[0;34m=\u001b[0m \u001b[0mtemp\u001b[0m\u001b[0;34m.\u001b[0m\u001b[0mappend\u001b[0m\u001b[0;34m(\u001b[0m\u001b[0mself\u001b[0m\u001b[0;34m.\u001b[0m\u001b[0m_download_to_dataframe\u001b[0m\u001b[0;34m(\u001b[0m\u001b[0mself\u001b[0m\u001b[0;34m.\u001b[0m\u001b[0m_base_url\u001b[0m \u001b[0;34m+\u001b[0m \u001b[0murl\u001b[0m\u001b[0;34m)\u001b[0m\u001b[0;34m)\u001b[0m\u001b[0;34m\u001b[0m\u001b[0;34m\u001b[0m\u001b[0m\n\u001b[1;32m     88\u001b[0m         \u001b[0murl\u001b[0m \u001b[0;34m=\u001b[0m \u001b[0;34m'TibetanMulti-Part3-Dictionary.csv'\u001b[0m\u001b[0;34m\u001b[0m\u001b[0;34m\u001b[0m\u001b[0m\n\u001b[0;32m---> 89\u001b[0;31m         \u001b[0;32mreturn\u001b[0m \u001b[0mtemp\u001b[0m\u001b[0;34m.\u001b[0m\u001b[0mappend\u001b[0m\u001b[0;34m(\u001b[0m\u001b[0mself\u001b[0m\u001b[0;34m.\u001b[0m\u001b[0m_download_to_dataframe\u001b[0m\u001b[0;34m(\u001b[0m\u001b[0mself\u001b[0m\u001b[0;34m.\u001b[0m\u001b[0m_base_url\u001b[0m \u001b[0;34m+\u001b[0m \u001b[0murl\u001b[0m\u001b[0;34m)\u001b[0m\u001b[0;34m)\u001b[0m\u001b[0;34m\u001b[0m\u001b[0;34m\u001b[0m\u001b[0m\n\u001b[0m\u001b[1;32m     90\u001b[0m \u001b[0;34m\u001b[0m\u001b[0m\n\u001b[1;32m     91\u001b[0m     \u001b[0;32mdef\u001b[0m \u001b[0m_tibetan_medicine\u001b[0m\u001b[0;34m(\u001b[0m\u001b[0mself\u001b[0m\u001b[0;34m)\u001b[0m\u001b[0;34m:\u001b[0m\u001b[0;34m\u001b[0m\u001b[0;34m\u001b[0m\u001b[0m\n",
      "\u001b[0;32m~/dev/Tibetan-Lookup/tibetan_lookup/BuildDictionary.py\u001b[0m in \u001b[0;36m_download_to_dataframe\u001b[0;34m(self, url)\u001b[0m\n\u001b[1;32m    120\u001b[0m         \u001b[0mcontent\u001b[0m \u001b[0;34m=\u001b[0m \u001b[0murlopen\u001b[0m\u001b[0;34m(\u001b[0m\u001b[0mreq\u001b[0m\u001b[0;34m)\u001b[0m\u001b[0;34m\u001b[0m\u001b[0;34m\u001b[0m\u001b[0m\n\u001b[1;32m    121\u001b[0m \u001b[0;34m\u001b[0m\u001b[0m\n\u001b[0;32m--> 122\u001b[0;31m         \u001b[0;32mreturn\u001b[0m \u001b[0mpd\u001b[0m\u001b[0;34m.\u001b[0m\u001b[0mread_csv\u001b[0m\u001b[0;34m(\u001b[0m\u001b[0mcontent\u001b[0m\u001b[0;34m,\u001b[0m \u001b[0mindex_col\u001b[0m\u001b[0;34m=\u001b[0m\u001b[0;36m0\u001b[0m\u001b[0;34m,\u001b[0m \u001b[0merror_bad_lines\u001b[0m\u001b[0;34m=\u001b[0m\u001b[0;32mFalse\u001b[0m\u001b[0;34m)\u001b[0m\u001b[0;34m\u001b[0m\u001b[0;34m\u001b[0m\u001b[0m\n\u001b[0m\u001b[1;32m    123\u001b[0m \u001b[0;34m\u001b[0m\u001b[0m\n\u001b[1;32m    124\u001b[0m     \u001b[0;32mdef\u001b[0m \u001b[0m_query\u001b[0m\u001b[0;34m(\u001b[0m\u001b[0mself\u001b[0m\u001b[0;34m,\u001b[0m \u001b[0mquery\u001b[0m\u001b[0;34m,\u001b[0m \u001b[0mdictionary\u001b[0m\u001b[0;34m,\u001b[0m \u001b[0mpartial_match\u001b[0m\u001b[0;34m=\u001b[0m\u001b[0;32mFalse\u001b[0m\u001b[0;34m)\u001b[0m\u001b[0;34m:\u001b[0m\u001b[0;34m\u001b[0m\u001b[0;34m\u001b[0m\u001b[0m\n",
      "\u001b[0;32m~/miniconda3/envs/wip/lib/python3.8/site-packages/pandas/io/parsers.py\u001b[0m in \u001b[0;36mread_csv\u001b[0;34m(filepath_or_buffer, sep, delimiter, header, names, index_col, usecols, squeeze, prefix, mangle_dupe_cols, dtype, engine, converters, true_values, false_values, skipinitialspace, skiprows, skipfooter, nrows, na_values, keep_default_na, na_filter, verbose, skip_blank_lines, parse_dates, infer_datetime_format, keep_date_col, date_parser, dayfirst, cache_dates, iterator, chunksize, compression, thousands, decimal, lineterminator, quotechar, quoting, doublequote, escapechar, comment, encoding, dialect, error_bad_lines, warn_bad_lines, delim_whitespace, low_memory, memory_map, float_precision)\u001b[0m\n\u001b[1;32m    684\u001b[0m     )\n\u001b[1;32m    685\u001b[0m \u001b[0;34m\u001b[0m\u001b[0m\n\u001b[0;32m--> 686\u001b[0;31m     \u001b[0;32mreturn\u001b[0m \u001b[0m_read\u001b[0m\u001b[0;34m(\u001b[0m\u001b[0mfilepath_or_buffer\u001b[0m\u001b[0;34m,\u001b[0m \u001b[0mkwds\u001b[0m\u001b[0;34m)\u001b[0m\u001b[0;34m\u001b[0m\u001b[0;34m\u001b[0m\u001b[0m\n\u001b[0m\u001b[1;32m    687\u001b[0m \u001b[0;34m\u001b[0m\u001b[0m\n\u001b[1;32m    688\u001b[0m \u001b[0;34m\u001b[0m\u001b[0m\n",
      "\u001b[0;32m~/miniconda3/envs/wip/lib/python3.8/site-packages/pandas/io/parsers.py\u001b[0m in \u001b[0;36m_read\u001b[0;34m(filepath_or_buffer, kwds)\u001b[0m\n\u001b[1;32m    456\u001b[0m \u001b[0;34m\u001b[0m\u001b[0m\n\u001b[1;32m    457\u001b[0m     \u001b[0;32mtry\u001b[0m\u001b[0;34m:\u001b[0m\u001b[0;34m\u001b[0m\u001b[0;34m\u001b[0m\u001b[0m\n\u001b[0;32m--> 458\u001b[0;31m         \u001b[0mdata\u001b[0m \u001b[0;34m=\u001b[0m \u001b[0mparser\u001b[0m\u001b[0;34m.\u001b[0m\u001b[0mread\u001b[0m\u001b[0;34m(\u001b[0m\u001b[0mnrows\u001b[0m\u001b[0;34m)\u001b[0m\u001b[0;34m\u001b[0m\u001b[0;34m\u001b[0m\u001b[0m\n\u001b[0m\u001b[1;32m    459\u001b[0m     \u001b[0;32mfinally\u001b[0m\u001b[0;34m:\u001b[0m\u001b[0;34m\u001b[0m\u001b[0;34m\u001b[0m\u001b[0m\n\u001b[1;32m    460\u001b[0m         \u001b[0mparser\u001b[0m\u001b[0;34m.\u001b[0m\u001b[0mclose\u001b[0m\u001b[0;34m(\u001b[0m\u001b[0;34m)\u001b[0m\u001b[0;34m\u001b[0m\u001b[0;34m\u001b[0m\u001b[0m\n",
      "\u001b[0;32m~/miniconda3/envs/wip/lib/python3.8/site-packages/pandas/io/parsers.py\u001b[0m in \u001b[0;36mread\u001b[0;34m(self, nrows)\u001b[0m\n\u001b[1;32m   1184\u001b[0m     \u001b[0;32mdef\u001b[0m \u001b[0mread\u001b[0m\u001b[0;34m(\u001b[0m\u001b[0mself\u001b[0m\u001b[0;34m,\u001b[0m \u001b[0mnrows\u001b[0m\u001b[0;34m=\u001b[0m\u001b[0;32mNone\u001b[0m\u001b[0;34m)\u001b[0m\u001b[0;34m:\u001b[0m\u001b[0;34m\u001b[0m\u001b[0;34m\u001b[0m\u001b[0m\n\u001b[1;32m   1185\u001b[0m         \u001b[0mnrows\u001b[0m \u001b[0;34m=\u001b[0m \u001b[0m_validate_integer\u001b[0m\u001b[0;34m(\u001b[0m\u001b[0;34m\"nrows\"\u001b[0m\u001b[0;34m,\u001b[0m \u001b[0mnrows\u001b[0m\u001b[0;34m)\u001b[0m\u001b[0;34m\u001b[0m\u001b[0;34m\u001b[0m\u001b[0m\n\u001b[0;32m-> 1186\u001b[0;31m         \u001b[0mret\u001b[0m \u001b[0;34m=\u001b[0m \u001b[0mself\u001b[0m\u001b[0;34m.\u001b[0m\u001b[0m_engine\u001b[0m\u001b[0;34m.\u001b[0m\u001b[0mread\u001b[0m\u001b[0;34m(\u001b[0m\u001b[0mnrows\u001b[0m\u001b[0;34m)\u001b[0m\u001b[0;34m\u001b[0m\u001b[0;34m\u001b[0m\u001b[0m\n\u001b[0m\u001b[1;32m   1187\u001b[0m \u001b[0;34m\u001b[0m\u001b[0m\n\u001b[1;32m   1188\u001b[0m         \u001b[0;31m# May alter columns / col_dict\u001b[0m\u001b[0;34m\u001b[0m\u001b[0;34m\u001b[0m\u001b[0;34m\u001b[0m\u001b[0m\n",
      "\u001b[0;32m~/miniconda3/envs/wip/lib/python3.8/site-packages/pandas/io/parsers.py\u001b[0m in \u001b[0;36mread\u001b[0;34m(self, nrows)\u001b[0m\n\u001b[1;32m   2143\u001b[0m     \u001b[0;32mdef\u001b[0m \u001b[0mread\u001b[0m\u001b[0;34m(\u001b[0m\u001b[0mself\u001b[0m\u001b[0;34m,\u001b[0m \u001b[0mnrows\u001b[0m\u001b[0;34m=\u001b[0m\u001b[0;32mNone\u001b[0m\u001b[0;34m)\u001b[0m\u001b[0;34m:\u001b[0m\u001b[0;34m\u001b[0m\u001b[0;34m\u001b[0m\u001b[0m\n\u001b[1;32m   2144\u001b[0m         \u001b[0;32mtry\u001b[0m\u001b[0;34m:\u001b[0m\u001b[0;34m\u001b[0m\u001b[0;34m\u001b[0m\u001b[0m\n\u001b[0;32m-> 2145\u001b[0;31m             \u001b[0mdata\u001b[0m \u001b[0;34m=\u001b[0m \u001b[0mself\u001b[0m\u001b[0;34m.\u001b[0m\u001b[0m_reader\u001b[0m\u001b[0;34m.\u001b[0m\u001b[0mread\u001b[0m\u001b[0;34m(\u001b[0m\u001b[0mnrows\u001b[0m\u001b[0;34m)\u001b[0m\u001b[0;34m\u001b[0m\u001b[0;34m\u001b[0m\u001b[0m\n\u001b[0m\u001b[1;32m   2146\u001b[0m         \u001b[0;32mexcept\u001b[0m \u001b[0mStopIteration\u001b[0m\u001b[0;34m:\u001b[0m\u001b[0;34m\u001b[0m\u001b[0;34m\u001b[0m\u001b[0m\n\u001b[1;32m   2147\u001b[0m             \u001b[0;32mif\u001b[0m \u001b[0mself\u001b[0m\u001b[0;34m.\u001b[0m\u001b[0m_first_chunk\u001b[0m\u001b[0;34m:\u001b[0m\u001b[0;34m\u001b[0m\u001b[0;34m\u001b[0m\u001b[0m\n",
      "\u001b[0;32mpandas/_libs/parsers.pyx\u001b[0m in \u001b[0;36mpandas._libs.parsers.TextReader.read\u001b[0;34m()\u001b[0m\n",
      "\u001b[0;32mpandas/_libs/parsers.pyx\u001b[0m in \u001b[0;36mpandas._libs.parsers.TextReader._read_low_memory\u001b[0;34m()\u001b[0m\n",
      "\u001b[0;32mpandas/_libs/parsers.pyx\u001b[0m in \u001b[0;36mpandas._libs.parsers.TextReader._read_rows\u001b[0;34m()\u001b[0m\n",
      "\u001b[0;32mpandas/_libs/parsers.pyx\u001b[0m in \u001b[0;36mpandas._libs.parsers.TextReader._tokenize_rows\u001b[0;34m()\u001b[0m\n",
      "\u001b[0;32mpandas/_libs/parsers.pyx\u001b[0m in \u001b[0;36mpandas._libs.parsers.raise_parser_error\u001b[0;34m()\u001b[0m\n",
      "\u001b[0;32m~/miniconda3/envs/wip/lib/python3.8/socket.py\u001b[0m in \u001b[0;36mreadinto\u001b[0;34m(self, b)\u001b[0m\n\u001b[1;32m    667\u001b[0m         \u001b[0;32mwhile\u001b[0m \u001b[0;32mTrue\u001b[0m\u001b[0;34m:\u001b[0m\u001b[0;34m\u001b[0m\u001b[0;34m\u001b[0m\u001b[0m\n\u001b[1;32m    668\u001b[0m             \u001b[0;32mtry\u001b[0m\u001b[0;34m:\u001b[0m\u001b[0;34m\u001b[0m\u001b[0;34m\u001b[0m\u001b[0m\n\u001b[0;32m--> 669\u001b[0;31m                 \u001b[0;32mreturn\u001b[0m \u001b[0mself\u001b[0m\u001b[0;34m.\u001b[0m\u001b[0m_sock\u001b[0m\u001b[0;34m.\u001b[0m\u001b[0mrecv_into\u001b[0m\u001b[0;34m(\u001b[0m\u001b[0mb\u001b[0m\u001b[0;34m)\u001b[0m\u001b[0;34m\u001b[0m\u001b[0;34m\u001b[0m\u001b[0m\n\u001b[0m\u001b[1;32m    670\u001b[0m             \u001b[0;32mexcept\u001b[0m \u001b[0mtimeout\u001b[0m\u001b[0;34m:\u001b[0m\u001b[0;34m\u001b[0m\u001b[0;34m\u001b[0m\u001b[0m\n\u001b[1;32m    671\u001b[0m                 \u001b[0mself\u001b[0m\u001b[0;34m.\u001b[0m\u001b[0m_timeout_occurred\u001b[0m \u001b[0;34m=\u001b[0m \u001b[0;32mTrue\u001b[0m\u001b[0;34m\u001b[0m\u001b[0;34m\u001b[0m\u001b[0m\n",
      "\u001b[0;32m~/miniconda3/envs/wip/lib/python3.8/ssl.py\u001b[0m in \u001b[0;36mrecv_into\u001b[0;34m(self, buffer, nbytes, flags)\u001b[0m\n\u001b[1;32m   1239\u001b[0m                   \u001b[0;34m\"non-zero flags not allowed in calls to recv_into() on %s\"\u001b[0m \u001b[0;34m%\u001b[0m\u001b[0;34m\u001b[0m\u001b[0;34m\u001b[0m\u001b[0m\n\u001b[1;32m   1240\u001b[0m                   self.__class__)\n\u001b[0;32m-> 1241\u001b[0;31m             \u001b[0;32mreturn\u001b[0m \u001b[0mself\u001b[0m\u001b[0;34m.\u001b[0m\u001b[0mread\u001b[0m\u001b[0;34m(\u001b[0m\u001b[0mnbytes\u001b[0m\u001b[0;34m,\u001b[0m \u001b[0mbuffer\u001b[0m\u001b[0;34m)\u001b[0m\u001b[0;34m\u001b[0m\u001b[0;34m\u001b[0m\u001b[0m\n\u001b[0m\u001b[1;32m   1242\u001b[0m         \u001b[0;32melse\u001b[0m\u001b[0;34m:\u001b[0m\u001b[0;34m\u001b[0m\u001b[0;34m\u001b[0m\u001b[0m\n\u001b[1;32m   1243\u001b[0m             \u001b[0;32mreturn\u001b[0m \u001b[0msuper\u001b[0m\u001b[0;34m(\u001b[0m\u001b[0;34m)\u001b[0m\u001b[0;34m.\u001b[0m\u001b[0mrecv_into\u001b[0m\u001b[0;34m(\u001b[0m\u001b[0mbuffer\u001b[0m\u001b[0;34m,\u001b[0m \u001b[0mnbytes\u001b[0m\u001b[0;34m,\u001b[0m \u001b[0mflags\u001b[0m\u001b[0;34m)\u001b[0m\u001b[0;34m\u001b[0m\u001b[0;34m\u001b[0m\u001b[0m\n",
      "\u001b[0;32m~/miniconda3/envs/wip/lib/python3.8/ssl.py\u001b[0m in \u001b[0;36mread\u001b[0;34m(self, len, buffer)\u001b[0m\n\u001b[1;32m   1097\u001b[0m         \u001b[0;32mtry\u001b[0m\u001b[0;34m:\u001b[0m\u001b[0;34m\u001b[0m\u001b[0;34m\u001b[0m\u001b[0m\n\u001b[1;32m   1098\u001b[0m             \u001b[0;32mif\u001b[0m \u001b[0mbuffer\u001b[0m \u001b[0;32mis\u001b[0m \u001b[0;32mnot\u001b[0m \u001b[0;32mNone\u001b[0m\u001b[0;34m:\u001b[0m\u001b[0;34m\u001b[0m\u001b[0;34m\u001b[0m\u001b[0m\n\u001b[0;32m-> 1099\u001b[0;31m                 \u001b[0;32mreturn\u001b[0m \u001b[0mself\u001b[0m\u001b[0;34m.\u001b[0m\u001b[0m_sslobj\u001b[0m\u001b[0;34m.\u001b[0m\u001b[0mread\u001b[0m\u001b[0;34m(\u001b[0m\u001b[0mlen\u001b[0m\u001b[0;34m,\u001b[0m \u001b[0mbuffer\u001b[0m\u001b[0;34m)\u001b[0m\u001b[0;34m\u001b[0m\u001b[0;34m\u001b[0m\u001b[0m\n\u001b[0m\u001b[1;32m   1100\u001b[0m             \u001b[0;32melse\u001b[0m\u001b[0;34m:\u001b[0m\u001b[0;34m\u001b[0m\u001b[0;34m\u001b[0m\u001b[0m\n\u001b[1;32m   1101\u001b[0m                 \u001b[0;32mreturn\u001b[0m \u001b[0mself\u001b[0m\u001b[0;34m.\u001b[0m\u001b[0m_sslobj\u001b[0m\u001b[0;34m.\u001b[0m\u001b[0mread\u001b[0m\u001b[0;34m(\u001b[0m\u001b[0mlen\u001b[0m\u001b[0;34m)\u001b[0m\u001b[0;34m\u001b[0m\u001b[0;34m\u001b[0m\u001b[0m\n",
      "\u001b[0;31mKeyboardInterrupt\u001b[0m: "
     ]
    }
   ],
   "source": [
    "# step 2\n",
    "tibetan.lookup('ཆོས་ཉིད་ཀྱི་ཀློང་', sources=['lobsang_monlam',\n",
    "                               'tony_duff',\n",
    "                               'mahavyutpatti',\n",
    "                               'verb_lexicon',\n",
    "                               'tibetan_multi',\n",
    "                               'erik_pema_kunsang'])"
   ]
  },
  {
   "cell_type": "code",
   "execution_count": null,
   "metadata": {},
   "outputs": [],
   "source": []
  },
  {
   "cell_type": "code",
   "execution_count": null,
   "metadata": {},
   "outputs": [],
   "source": []
  },
  {
   "cell_type": "markdown",
   "metadata": {},
   "source": [
    "\n",
    "\n",
    "Commentary on Praise for Gelongma Palmo's Speech: White moonlight"
   ]
  },
  {
   "cell_type": "markdown",
   "metadata": {},
   "source": [
    "གསུང་ཐོར་བུ་\n",
    "The Collected Works of the 9th Togden Rinpoche\n",
    "\n",
    "ཆོས་རྗེ་འབྲི་གུར་པའི་གདན་རབས་མདོར་བསྡུས།\n",
    "\n",
    "འབྲི་གུང་པའི་དམ་ཆོས་དགོངས་པ་གཅིག་པའི་རྣམ་བཤད་བློ་གསར་དགའ་བའི་རྣ་རྒྱན་དབྱར་གྱི་རྔ་སྒྲ།\n",
    "\n",
    "ནང་པ་སངས་རྒྱས་པ་ཀུན་གྱི་ལམ་ཐམས་ཅད་ཀྱི་རྨིང་རྡོ་སྐྱབས་འགྲོའི་ཁྲིད་ཡིད་ཀྱི་མུན་སེལ།\n",
    "\n",
    "དགེ་སློང་མ་དཔལ་མོས་གསུངས་པའི་པོ་བསྟོད་ཀྱི་འགྲེལ་བ་ཟླ་བའི་འོད་དཀར།\n",
    "Commentary on Gelongma Palmo's Praise: White moonlight\n",
    "\n",
    "ཡང་ཟབ་པདྨ་རྒྱལ་པོ་ཡི༔སྒྲུབ་ཐབས་སྙིང་གི་ཡང་ཞུན༔\n",
    "\n",
    "གཏེརསྲུང་ལྷ་བཙན་འབར་བ་ཡི༔ གསོལ་མཆོད་འདོད་དོན་ཀུན་འགྲུབ༔\n",
    "\n",
    "གའུ་རྒྱ་ཅན་ལས༔ ཚེ་སྒྲུབ་དོན་གྱི་སྙིང་པོ༔\n",
    "\n",
    "པདྨ་རྒྱལ་པོའི་ཟབ་གཏེར་ལས༔ ཚེ་དབང་འཆི་བདག་གཡུལ་རྒྱལ༔\n",
    "\n",
    "མཁའ་འགྲོའི་བརྡ་ཡིག་རཏྣ༔\n",
    "\n",
    "ཡང་ཟབ་སྙིང་གི་ཡང་ཞུན་ལས༔ གཡང་ལེན་སྣོད་བཅུད་རྒྱ་མཚོ༔\n",
    "\n",
    "མཁའ་འགྲོའི་བརྡ་ཡིག་རཏྣ༔\n",
    "\n",
    "ཡང་ཟབ་སྙིང་གི་ཡང་ཞུན་ལས༔ གཡང་ལེན་སྣོད་བཅུད་རྒྱ་མཚོ༔\n",
    "\n",
    "བླ་མ་ནོར་ལྷའི་གཡང་ཆོག་དང་འབྲེལ་བའི་བསེ་རག་རྫོང་ཐབས་མདོར་བསྡུས།\n",
    "\n",
    "ཚེ་འདས་ལས་སྣ་འདྲེན་པའི་ཕྱིར༔ གནས་སྤར་སྐར་མདའ་མྱུར་བགྲོད༔\n",
    "\n",
    "དྲེགས་པའི་གསོལ་མཆོད་སེམས་ཅན་སྲོག་སྐྱོབ།\n",
    "\n",
    "མང་ཡུལ་ལ་དྭགས་གཉན་འདམ་གཞི་བདག་དགེ་བསྙེན་རྡོ་རྗེ་རྗེ་དུང་ཚུགས་ཀྱི་གསོལ་མཆོད་འདོད་དོན་མྱུར་འགྲུབ།\n",
    "\n",
    "ཕུ་དཀར་ལྷ་སྨན་ཇོ་མོ་དང་མུལ་བཱཻ་བྲག་བཙན་གྱི་བསྟོད་པ་གསོལ་མཆོད་སྐྱེ་དགུ་བདེ་ལེགས།\n",
    "\n",
    "དར་གསང་དཀར་མོ་ཞེས་པ་གནས་གསར་མའི་གནས་ཡིག་ཀུན་གསལ་མེ་ལོང་།\n",
    "\n",
    "རྨི་ལམ་སྒྱུ་མའི་འཁོར་ལོ།\n",
    "\n",
    "རྨི་ལམ་ཉམས་སྣང་ཆུ་ནང་ཟླ་གཟུགས།\n",
    "\n",
    "རྨི་ལམ་ཉམས་སྣང་ཆུ་ནང་ཟླ་གཟུགས་\n",
    "\n",
    "ལུང་བསྟན་དག་སྣང་ཆེན་མོ།\n",
    "\n",
    "ལུང་བསྟན་དག་སྣང་སྒྱུ་འཕྲུལ་གསལ་བའི་སྒྲོན་མེ་\n",
    "\n",
    "ཐུབ་བསྟན་དོན་བརྒྱུད་སྙིང་པོའི་བསྟན་སྲུང་ཆོས་རྒྱས་སྐུ་ལྔའི་སྒེར་གསོལ་རྒྱས་པ་དགྲ་སྡེ་འཇོམས་པའི་རུ་མཚོན།\n"
   ]
  },
  {
   "cell_type": "code",
   "execution_count": null,
   "metadata": {},
   "outputs": [],
   "source": []
  },
  {
   "cell_type": "code",
   "execution_count": null,
   "metadata": {},
   "outputs": [],
   "source": []
  },
  {
   "cell_type": "code",
   "execution_count": null,
   "metadata": {},
   "outputs": [],
   "source": []
  },
  {
   "cell_type": "code",
   "execution_count": null,
   "metadata": {},
   "outputs": [],
   "source": []
  },
  {
   "cell_type": "markdown",
   "metadata": {},
   "source": [
    "- 'pa'\n",
    "- english the saurus\n",
    "- tibetan the saurus?\n",
    "- sanskrit dictionary / the saurus\n",
    "- 'me'"
   ]
  },
  {
   "cell_type": "code",
   "execution_count": null,
   "metadata": {},
   "outputs": [],
   "source": []
  },
  {
   "cell_type": "code",
   "execution_count": null,
   "metadata": {},
   "outputs": [],
   "source": []
  },
  {
   "cell_type": "code",
   "execution_count": null,
   "metadata": {},
   "outputs": [],
   "source": []
  },
  {
   "cell_type": "code",
   "execution_count": null,
   "metadata": {},
   "outputs": [],
   "source": []
  },
  {
   "cell_type": "code",
   "execution_count": 8,
   "metadata": {},
   "outputs": [
    {
     "data": {
      "text/plain": [
       "{'lobsang_monlam': {}}"
      ]
     },
     "execution_count": 8,
     "metadata": {},
     "output_type": "execute_result"
    }
   ],
   "source": [
    "tibetan.lookup('གཉིས་ལས་ཕྱི', partial_match=True)"
   ]
  },
  {
   "cell_type": "code",
   "execution_count": null,
   "metadata": {},
   "outputs": [],
   "source": [
    "[['བསྒོམ་བྱའི་', 'of meditation'], \n",
    " ['དེ་མ་ཐག་རྐྱེན་', 'the immediate condition'],\n",
    "['གང་ཤར་', 'whatever appears'],\n",
    "['གཉིས་སུ་', 'duality'],]"
   ]
  }
 ],
 "metadata": {
  "kernelspec": {
   "display_name": "Python 3",
   "language": "python",
   "name": "python3"
  },
  "language_info": {
   "codemirror_mode": {
    "name": "ipython",
    "version": 3
   },
   "file_extension": ".py",
   "mimetype": "text/x-python",
   "name": "python",
   "nbconvert_exporter": "python",
   "pygments_lexer": "ipython3",
   "version": "3.8.5"
  }
 },
 "nbformat": 4,
 "nbformat_minor": 4
}
