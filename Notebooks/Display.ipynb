{
 "cells": [
  {
   "cell_type": "code",
   "execution_count": 1,
   "metadata": {},
   "outputs": [],
   "source": [
    "from tibetan_lookup.BuildDictionary import BuildDictionary\n",
    "from tibetan_lookup.utils.modify_input_string import modify_input_string\n",
    "\n",
    "tibetan = BuildDictionary(debug_true=True)"
   ]
  },
  {
   "cell_type": "code",
   "execution_count": 2,
   "metadata": {},
   "outputs": [],
   "source": [
    "def print_tibetan(string,\n",
    "                  source,\n",
    "                  return_html=False,\n",
    "                  debug=False):\n",
    "    \n",
    "    from IPython.core.display import HTML\n",
    "    from botok import Text\n",
    "\n",
    "    string = modify_input_string(string)\n",
    "    t = Text(string)\n",
    "    tokens = t.tokenize_words_raw_text.split()\n",
    "    \n",
    "    html = '<link rel=\"stylesheet\" href=\"../assets/style.css\"><style type=\"text/css\">'\n",
    "    html += '<style></style>'\n",
    "    counter = 1\n",
    "\n",
    "    for i, token in enumerate(tokens):\n",
    "\n",
    "        token = token.replace('_', ' ')\n",
    "        original_token = token\n",
    "        \n",
    "        try:\n",
    "            if tokens[i+1].endswith('འི་'):\n",
    "                token += '་'\n",
    "        except IndexError:\n",
    "            pass\n",
    "            \n",
    "        if counter % 2 == 0:\n",
    "            style = 'tibetan-even'\n",
    "        else:\n",
    "            style = 'tibetan-odd'\n",
    "        \n",
    "        if debug:\n",
    "            return tibetan.lookup(token)[source]\n",
    "        \n",
    "        try:\n",
    "            text = str(tibetan.lookup(token)[source])\n",
    "            html += '<div class=\"tooltip-ex ' + style + '\"><span>' + original_token + '</span><span class=\"tooltip-ex-text\">' + text  + '</span></div>'\n",
    "        except (TypeError, KeyError):\n",
    "            html += '<span class=\"' + style + '\">' + original_token + '</span>'\n",
    "\n",
    "        counter += 1\n",
    "        \n",
    "    html += '<br>'\n",
    "\n",
    "    display(HTML(html))\n",
    "    \n",
    "    if return_html:\n",
    "        return html"
   ]
  },
  {
   "cell_type": "code",
   "execution_count": 3,
   "metadata": {},
   "outputs": [],
   "source": [
    "s = 'ཐེག་ཆེན་བསྟན་པའི་སྙིང་པོའི་གཞུང་ལེགས་བཤད་ལུང་གི་རྒྱ་མཚོ་མཁན་ཆེན་དཀོན་མཆོག་རྒྱལ་མཚན་བཀའ་ཁྲིད་གནང་བ།'"
   ]
  },
  {
   "cell_type": "code",
   "execution_count": 5,
   "metadata": {},
   "outputs": [
    {
     "data": {
      "text/html": [
       "<link rel=\"stylesheet\" href=\"../assets/style.css\"><style type=\"text/css\"><style></style><div class=\"tooltip-ex tibetan-odd\"><span>ཐེག་ཆེན་</span><span class=\"tooltip-ex-text\">{'ཐེག་ཆེན་': ['Great Vehicle', 'mahayana, greater vehicle, superior spiritual pursuit, supreme comprehensive approach, Great Vehicle']}</span></div><div class=\"tooltip-ex tibetan-even\"><span>བསྟན་པ</span><span class=\"tooltip-ex-text\">{'བསྟན་པ་': ['teach; show; demonstrate; indicate\\x0bnoun: teaching; taught', '{C}view; false view; being seen; exhibiting; exhibition; act of gazing; definite statement; definition; teaches; speaks; says; declares; what has been taught; aid; is pointed out; is recognized; is expounded; is explained; explain; exposition; desquisitio', 'teaching, religion, doctrine, doctrinal teaching, system of doctrines, point out, directed, facing, shown, the doctrine or teaching of the Buddha, demonstration, to treat, to show, reveal, to be indicated by, to disclose, to display, to face toward, to tr']}</span></div><div class=\"tooltip-ex tibetan-odd\"><span>འི་</span><span class=\"tooltip-ex-text\">{'འི་': [\"genetive particle: of; 's; which is; that is. (as genitive particle) of; by; in; which. (as non-case particle) and; but; (semi-colon)\", 'SA kyi']}</span></div><div class=\"tooltip-ex tibetan-even\"><span>སྙིང་པོ</span><span class=\"tooltip-ex-text\">{'སྙིང་པོ་': ['essence; {T} matrix', '{C}enshrining; womb; embryo; place; seat; core; substance; substantial excellence; lack of a core; unsubstantiality; wick', 'core (-, reality, teaching), womb, heart, intrinsic character, essence, the very essence, quintessence, quintessential state, essential nature, motive force, meaning, inner reality, epitome, energy pulse, abstract, (reference to atiyoga), pith, flower, th']}</span></div><div class=\"tooltip-ex tibetan-odd\"><span>འི་</span><span class=\"tooltip-ex-text\">{'འི་': [\"genetive particle: of; 's; which is; that is. (as genitive particle) of; by; in; which. (as non-case particle) and; but; (semi-colon)\", 'SA kyi']}</span></div><div class=\"tooltip-ex tibetan-even\"><span>གཞུང་</span><span class=\"tooltip-ex-text\">{'གཞུང་': ['text; central; government', 'shastra, texts, middle, center, government, executive, literary work, original text, exposition, lengthwise, government, rites, tradition, text']}</span></div><div class=\"tooltip-ex tibetan-odd\"><span>ལེགས་བཤད་</span><span class=\"tooltip-ex-text\">{'ལེགས་བཤད་': ['good explanation(s); well-explained', '(significant, moral, nice) sayings, (text 6149 by tsong kha pa), elegant description, good writings, moral lessons, elegant sayings']}</span></div><div class=\"tooltip-ex tibetan-even\"><span>ལུང་</span><span class=\"tooltip-ex-text\">{'ལུང་': ['scripture; oral transmission; passage; precept; injunction; spiritual instruction', 'canonical text; coming; {GD:748} verbal testimony', 'shastra, stamp, handle, tradition, precepts, (-, reading) transmission, instruction, permission, scripture, sacred story, epic, text, prophecy, scriptural (tradition, authority), behest, authorization from hearing text, read aloud, holder, carrying sling,']}</span></div><div class=\"tooltip-ex tibetan-odd\"><span>གི་</span><span class=\"tooltip-ex-text\">{'གི་': ['(as genitive particle) of; by; in; which. (as non-case particle) and; but; (semi-colon)', \"of, (-'s) affix instead of kyi after ga and nga, SA kyi of, genitive particle, related to\"]}</span></div><div class=\"tooltip-ex tibetan-even\"><span>རྒྱ་མཚོ་</span><span class=\"tooltip-ex-text\">{'རྒྱ་མཚོ་': ['[vast-lake]; ocean; large lake', '{C}great flood', 'ocean, sea, dropsy, ocean, infinite, countless, eyes']}</span></div><div class=\"tooltip-ex tibetan-odd\"><span>མཁན་ཆེན་</span><span class=\"tooltip-ex-text\">{'མཁན་ཆེན་': ['archbishop, great abbot']}</span></div><div class=\"tooltip-ex tibetan-even\"><span>དཀོན་མཆོག་</span><span class=\"tooltip-ex-text\">{'དཀོན་མཆོག་': ['jewel; supreme rarity', '{C}precious jewel; precious substance; treasure', 'the greatest rarity, deity, any precious object, anything very excellent or best of its kind, chief of rarities, rarest being or object, supreme being']}</span></div><div class=\"tooltip-ex tibetan-odd\"><span>རྒྱལ་མཚན་</span><span class=\"tooltip-ex-text\">{'རྒྱལ་མཚན་': ['victory banner', '{C}banner; ensign; flag', 'standard (erected on summit of mount Meru) 1 of 28 astrological terms for harmony of influence in the destiny of a person, standard of victory, armorial flag, banner of victory in buddhism, personal name, decoration in colors on flagstaff or pole, victory']}</span></div><div class=\"tooltip-ex tibetan-even\"><span>བཀའ་</span><span class=\"tooltip-ex-text\">{'བཀའ་': ['word; saying; teaching; order; word [of Buddha]', 'inspiration, command, order, oral explanation, precepts, behest, tribe in tibet, word, speech, pronouncements of buddha, dictates, teaching, transmitted precepts, instruction']}</span></div><div class=\"tooltip-ex tibetan-odd\"><span>ཁྲིད་</span><span class=\"tooltip-ex-text\">{'ཁྲིད་': ['lead; lead through; guide \\x0bas noun: leader; instruction', 'having led him to a Highest [Pure]', \"'og min du khrid de\", \"counsel, guidance, instructions, commentaries, explanation, lead, accompanied by, bringing with, instruction, tutelage, row, order, serial arrangement, SA 'khrid pa, instruction, past of 'khrid, explanation, guiding explanation, guidance\"]}</span></div><div class=\"tooltip-ex tibetan-even\"><span>གནང་བ་</span><span class=\"tooltip-ex-text\">{'གནང་བ་': ['give; grant; make', 'grant permission, give, grant, bestow, confer, restore, concede, allow, permit, approve of, assent to, allocate, allot, award, do, endow, let, permission, teach']}</span></div><br>"
      ],
      "text/plain": [
       "<IPython.core.display.HTML object>"
      ]
     },
     "metadata": {},
     "output_type": "display_data"
    }
   ],
   "source": [
    "print_tibetan(s,'lobsang_monlam')"
   ]
  }
 ],
 "metadata": {
  "kernelspec": {
   "display_name": "Python 3 (ipykernel)",
   "language": "python",
   "name": "python3"
  },
  "language_info": {
   "codemirror_mode": {
    "name": "ipython",
    "version": 3
   },
   "file_extension": ".py",
   "mimetype": "text/x-python",
   "name": "python",
   "nbconvert_exporter": "python",
   "pygments_lexer": "ipython3",
   "version": "3.8.11"
  }
 },
 "nbformat": 4,
 "nbformat_minor": 4
}
