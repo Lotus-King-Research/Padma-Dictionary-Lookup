{
 "cells": [
  {
   "cell_type": "code",
   "execution_count": null,
   "metadata": {},
   "outputs": [],
   "source": [
    "from tibetan_lookup.BuildDictionary import BuildDictionary\n",
    "\n",
    "tibetan = BuildDictionary(debug_true=True)"
   ]
  },
  {
   "cell_type": "code",
   "execution_count": null,
   "metadata": {},
   "outputs": [],
   "source": [
    "from tibetan_lookup import utils"
   ]
  },
  {
   "cell_type": "code",
   "execution_count": null,
   "metadata": {},
   "outputs": [],
   "source": [
    "# step 2\n",
    "tibetan.lookup('སྒྲོན་མེ་',\n",
    "               sources=['mahavyutpatti',\n",
    "                        'erik_pema_kunsang',\n",
    "                        'ives_waldo',\n",
    "                        'jeffrey_hopkins',\n",
    "                        'lobsang_monlam',\n",
    "                        'tibetan_multi',\n",
    "                        'tibetan_medicine',\n",
    "                        'verb_lexicon',\n",
    "                        'debug_true'])"
   ]
  }
 ],
 "metadata": {
  "kernelspec": {
   "display_name": "Python 3 (ipykernel)",
   "language": "python",
   "name": "python3"
  },
  "language_info": {
   "codemirror_mode": {
    "name": "ipython",
    "version": 3
   },
   "file_extension": ".py",
   "mimetype": "text/x-python",
   "name": "python",
   "nbconvert_exporter": "python",
   "pygments_lexer": "ipython3",
   "version": "3.8.11"
  }
 },
 "nbformat": 4,
 "nbformat_minor": 4
}
