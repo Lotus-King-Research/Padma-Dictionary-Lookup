{
 "cells": [
  {
   "cell_type": "code",
   "execution_count": 1,
   "metadata": {},
   "outputs": [],
   "source": [
    "from tibetan_lookup.BuildDictionary import BuildDictionary\n",
    "\n",
    "tibetan = BuildDictionary(debug_true=True)"
   ]
  },
  {
   "cell_type": "code",
   "execution_count": 3,
   "metadata": {},
   "outputs": [],
   "source": [
    "s = 'དགེ་སློང་མ་དཔལ་མོས་གསུངས་པའི་པོ་བསྟོད་ཀྱི་འགྲེལ་བ་ཟླ་བའི་འོད་དཀར།'"
   ]
  },
  {
   "cell_type": "markdown",
   "metadata": {},
   "source": [
    "དགེ་སློང་མ་དཔལ་མོས་ == Gelongma Palmo == agent\n",
    "གསུངས་པའི་ == teachings == verb (past)\n",
    "བསྟོད་ཀྱི་ == praise == genetive\n",
    "འགྲེལ་བ་ == eludicate == verb\n",
    "ཟླ་བའི་འོད་དཀར། == white moon light\n",
    "\n",
    "White Moon Light: Eludicating the praise that Gelomgma Palmo taught"
   ]
  },
  {
   "cell_type": "markdown",
   "metadata": {},
   "source": [
    "ཡང་ཟབ་པདྨ་རྒྱལ་པོ་ཡི༔ = Pema Gyalpo's\n",
    "\n",
    "སྒྲུབ་ཐབས་ = means of accomplishment\n",
    "\n",
    "སྙིང་གི་ཡང་ཞུན༔ = essence of heart\n",
    "\n",
    "Pema Gyalpo's very profound heart essence sadhana"
   ]
  },
  {
   "cell_type": "code",
   "execution_count": null,
   "metadata": {},
   "outputs": [],
   "source": [
    "གཏེར་སྲུང་ལྷ་བཙན་འབར་བ་ཡི༔ གསོལ་མཆོད་འདོད་དོན་ཀུན་འགྲུབ༔"
   ]
  },
  {
   "cell_type": "markdown",
   "metadata": {},
   "source": [
    "གཏེར་སྲུང་ = Terma protector\n",
    "ལྷ་བཙན་ = Lha Tsen\n",
    "འབར་བ་ཡི༔ = of blazing\n",
    "གསོལ་མཆོད་ = invocation\n",
    "འདོད་དོན་  = one's wishes\n",
    "ཀུན་འགྲུབ་ = all accomplishing\n",
    "\n",
    "Accomplishing all of one's wishes: Blazing invocation for terma protector Lha Tsen"
   ]
  },
  {
   "cell_type": "markdown",
   "metadata": {},
   "source": [
    "གའུ་རྒྱ་ཅན་ལས༔ ཚེ་སྒྲུབ་དོན་གྱི་སྙིང་པོ༔\n",
    "\n",
    "\n",
    "གའུ་ = amulet\n",
    "\n",
    "རྒྱ་ཅན་ = vastness\n",
    "\n",
    "ལས་ = karma\n",
    "\n",
    "ཚེ་སྒྲུབ་ = life accomplishment\n",
    "\n",
    "དོན་གྱི་སྙིང་པོ་ = essential meaning\n",
    "\n",
    "essential meaning of life accomplisment.\n"
   ]
  },
  {
   "cell_type": "markdown",
   "metadata": {},
   "source": [
    "ལུང་བསྟན་དག་སྣང་ཆེན་མོ།\n",
    "\n",
    "ལུང་བསྟན་ = prophecy\n",
    "དག་ = pure\n",
    "སྣང་ = appearance\n",
    "ཆེན་མོ་ = great\n",
    "\n",
    "Great appearance of pure prediction"
   ]
  },
  {
   "cell_type": "markdown",
   "metadata": {},
   "source": [
    "ལུང་བསྟན་དག་སྣང་ = appearance of pure prediction\n",
    "\n",
    "སྒྱུ་འཕྲུལ་ = illusory manifestation\n",
    "\n",
    "གསལ་བའི་ = of clear\n",
    "\n",
    "སྒྲོན་མེ་ = lamp\n",
    "\n",
    "Lamp of clear illusory manifestation: appearance of pure prediction"
   ]
  },
  {
   "cell_type": "code",
   "execution_count": 59,
   "metadata": {},
   "outputs": [
    {
     "data": {
      "text/plain": [
       "{'mahavyutpatti': {'སྒྲོན་མེ་': []},\n",
       " 'tony_duff': {'སྒྲོན་མེ་': ['{sgron me}༼noun༽ «Lamp». A lamp which is used to give off light.  Different from a butter lamp which is མར་མེ་.  Sometimes translated as «torch».']},\n",
       " 'erik_pema_kunsang': {'སྒྲོན་མེ་': ['butter, lamp, light, lantern, torch']},\n",
       " 'ives_waldo': {'སྒྲོན་མེ་': ['butter, [butter] lamp, light, lantern, torch']},\n",
       " 'jeffrey_hopkins': {'སྒྲོན་མེ་': ['[E: [g: [p:vb] [t: i:སྒྲོན་ i:མ་ ]] [s: [c.s: «pradīpa» ] [c.s: «dīpa» ] [c.e: [HP] «lamp; light» ] ]']},\n",
       " 'lobsang_monlam': {'སྒྲོན་མེ་': ['lamp; light',\n",
       "   'lamp burning, religious offering, lamp torch, light, candle']},\n",
       " 'tibetan_multi': {'སྒྲོན་མེ་': ['སྣང་གསལ་ལམ་མར་མེ།\\xa0 ལག་ན་སྒྲོན་མེ་ཐོགས་ཡོད་ཀྱང། ལོང་བས་ལམ་ནི་མཐོང་མི་འགྱུར།\\xa0 ལྷགས་པ་ཆེན་པོའི་ནང་དུ་སྒྲོན་མེ་འབར་མི་ཐུབ་པར་ཡང་ཡང་ཤི་བ།\\xa0 ',\n",
       "   'སྣང་གསལ་ལམ་མར་མེ། ལག་ན་སྒྲོན་མེ་ཐོགས་ཡོད་ཀྱང། ལོང་བས་ལམ་ནི་མཐོང་མི་འགྱུར། ལྷགས་པ་ཆེན་པོའི་ནང་དུ་སྒྲོན་མེ་འབར་མི་ཐུབ་པར་ཡང་ཡང་ཤི་བ། མར་ཁུ་ཟད་དེ་སྒྲོན་མེ་གཟིམས་པ་ མིང་གི་རྣམ་གྲངས་ལ་ཁྱིམ་གྱི་ནོར་བུ་དང། ་སྣང་གསས། སྣུམ་ཟམ་སྣུམ་ལ་དགའ། འབར་བའི་རླ་པ་ཅན། མར་མེ། མཚན་ནོའི་སྣང་བྱེད་བཅས་སོ། ']},\n",
       " 'tibetan_medicine': {'སྒྲོན་མེ་': []},\n",
       " 'verb_lexicon': {'སྒྲོན་མེ་': []},\n",
       " 'debug_true': {'སྒྲོན་མེ་': []}}"
      ]
     },
     "execution_count": 59,
     "metadata": {},
     "output_type": "execute_result"
    }
   ],
   "source": [
    "# step 2\n",
    "tibetan.lookup('སྒྲོན་མེ་',\n",
    "               sources=['mahavyutpatti',\n",
    "                        'tony_duff',\n",
    "                        'erik_pema_kunsang',\n",
    "                        'ives_waldo',\n",
    "                        'jeffrey_hopkins',\n",
    "                        'lobsang_monlam',\n",
    "                        'tibetan_multi',\n",
    "                        'tibetan_medicine',\n",
    "                        'verb_lexicon',\n",
    "                        'debug_true'])"
   ]
  },
  {
   "cell_type": "code",
   "execution_count": null,
   "metadata": {},
   "outputs": [],
   "source": []
  },
  {
   "cell_type": "code",
   "execution_count": null,
   "metadata": {},
   "outputs": [],
   "source": []
  },
  {
   "cell_type": "code",
   "execution_count": null,
   "metadata": {},
   "outputs": [],
   "source": []
  },
  {
   "cell_type": "code",
   "execution_count": null,
   "metadata": {},
   "outputs": [],
   "source": []
  },
  {
   "cell_type": "code",
   "execution_count": null,
   "metadata": {},
   "outputs": [],
   "source": [
    "ཨ་མོ་གྷ་པཱ་ཤའི་རྒྱུད་\n",
    "ཨ་མོ་གྷ་པཱ་ཤའི་རྒྱུད་\n"
   ]
  }
 ],
 "metadata": {
  "kernelspec": {
   "display_name": "Python 3",
   "language": "python",
   "name": "python3"
  },
  "language_info": {
   "codemirror_mode": {
    "name": "ipython",
    "version": 3
   },
   "file_extension": ".py",
   "mimetype": "text/x-python",
   "name": "python",
   "nbconvert_exporter": "python",
   "pygments_lexer": "ipython3",
   "version": "3.8.5"
  }
 },
 "nbformat": 4,
 "nbformat_minor": 4
}
