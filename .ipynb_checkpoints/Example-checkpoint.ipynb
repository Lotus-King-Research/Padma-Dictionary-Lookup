{
 "cells": [
  {
   "cell_type": "code",
   "execution_count": 2,
   "metadata": {},
   "outputs": [],
   "source": [
    "from tibetan_lookup.build_dictionary import BuildDictionary\n",
    "\n",
    "dictionaries = BuildDictionary(mahavyutpatti=True,\n",
    "                               tony_duff=True,\n",
    "                               erik_pema_kunsang=True,\n",
    "                               ives_waldo=True,\n",
    "                               jeffrey_hopkins=True,\n",
    "                               lobsang_monlam=True,\n",
    "                               tibetan_multi=True,\n",
    "                               tibetan_medicine=True,\n",
    "                               verb_lexicon=True)\n",
    "\n",
    "dictionary_names = ['mahavyutpatti',\n",
    "                    'tony_duff',\n",
    "                    'erik_pema_kunsang',\n",
    "                    'ives_waldo',\n",
    "                    'jeffrey_hopkins',\n",
    "                    'lobsang_monlam',\n",
    "                    'tibetan_multi',\n",
    "                    'tibetan_medicine',\n",
    "                    'verb_lexicon']"
   ]
  },
  {
   "cell_type": "code",
   "execution_count": 3,
   "metadata": {},
   "outputs": [
    {
     "data": {
      "text/plain": [
       "['{sangs rgyas kyi mtshan}༼noun༽phrase༽ «Name(s) of the Buddha». The buddha had many epithets.  The following are listed in the [MVP].  See each for more information.<br/>1) སངས་རྒྱས་; 2) བཅོམ་ལྡན་འདས་; 3) དེ་བཞིན་གཤེགས་པ་; 4) དགྲ་བཅོམ་པ་; 5) ཡང་དག་པར་རྫོགས་པའི་སངས་རྒྱས་; 6) རིག་པ་དང་ཞབས་སུ་ལྡན་པ་; 7) བདེ་བར་གཤེགས་པ་; 8) འཇིག་རྟེན་མཁྱེན་པ་; 9) སྐྱེས་བུ་འདུལ་བའི་ཁ་ལོ་སྒྱུར་བ་བླ་ན་མེད་པ་; 10) སྟོན་པ་; 11) རྒྱལ་བ་; 12) འཇིག་རྟེན་གྱི་གཙོ་བོ་; 13) ཐམས་ཅད་མཁྱེན་པ་; 14) སྐྱོབ་པ་; 15) ལྷའི་ཡང་ལྷ་; 16) དྲང་སྲོང་ཆེན་པོ་; 17) ཆོས་ཀྱི་རྗེ་; 18) ཁྱུ་མཆོག་; 19) འདྲེན་པ་; 20) ཡོངས་སུ་འདྲེན་པ་; 21) རྣམ་པར་འདྲེན་པ་; 22) གཉིས་སུ་མེད་པ་གསུང་བ་; 23) ཟས་གཙང་གི་སྲས་; 24) སྟོབས་བཅུ་པ་; 25) བསྲུང་མཛད་; 26) བདག་ཉིད་ཆེན་པོ་; 27) རྣམ་པར་རྒྱལ་བ་མངའ་; 28) ཁྱབ་བདག་; 29) ཐམས་ཅད་སྒྲོལ་; 30) ཆོས་ཐམས་ཅད་ཀྱི་དབང་ཕྱུག་; 31) རྣམ་པར་མཛེས་; 32) བརྟན་པ་; 33) ཡོན་ཏན་རྒྱ་མཚོ་; 34) སྐྱབས་འོས་; 35) སྐྱབས་; 36) སྨྲ་བའི་སེང་གེ་; 37) མི་མཆོག་; 38) བདུད་ཟིལ་གྱིས་གནོན་; 39) གང་ཟག་ཟླ་མེད་པ་; 40) སྐྱོན་བསལ་བ་; 41) དུག་བཅོམ་པ་; 42) ལུས་མེད་ཐུལ་; 43) མངོན་པར་ཤེས་པ་དྲུག་དང་ལྡན་པ་; 44) སྲིད་མཐར་ཕྱིན་; 45) སྡིག་འཇོམས་; 46) དོན་གྲུབ་; 47) ཤཱཀྱ་སེང་གེ་; 48) མཆོག་སྦྱིན་; 49) དཔའ་བ་; 50) ཞི་བར་མཛད་པ་; 51) སྡིག་པ་ཞི་བ་; 52) བསིལ་བར་གྱུར་པ་; 53) ཤེས་མཛད་; 54) རྩོད་མེད་; 55) བདག་གི་བ་མེད་པ་; 56) མཚོན་པ་; 57) ཁ་ན་མ་ཐོ་བ་མི་མངའ་བ་; 58) བསྙེངས་པ་མི་མངའ་བ་; 59) སྲེད་པ་དང་བྲལ་བ་; 60) ལེན་པ་མི་མངའ་བ་; 61) རྣམ་པར་གྲགས་པ་; 62) དགེ་བའི་ཆོས་ཀྱི་འབྱུང་གནས་; 63) གཙང་བ་; 64) དཔེ་མེད་པ་; 65) དུས་གསུམ་མཁྱེན་པ་; 66) གསུང་ལྡན་; 67) ཉེས་གསུམ་འཇོམས་པ་; 68) ཆོ་འཕྲུལ་གསུམ་དང་ལྡན་པ་; 69) དྲི་མ་མེད་པ་; 70) ཕུང་པོ་གསུམ་གྱི་ལམ་སྟོན་པ་; 71) ནད་མི་མངའ་བ་; 72) ཉི་མའི་རིགས་; 73) གཽཏམ་; 74) བུ་རམ་ཤིང་པའི་རིགས་དགའ་པ་; 75) མངའ་བདག་.']"
      ]
     },
     "execution_count": 3,
     "metadata": {},
     "output_type": "execute_result"
    }
   ],
   "source": [
    "dictionaries.query('སངས་རྒྱས་ཀྱི་མཚན་', 'tony_duff')"
   ]
  },
  {
   "cell_type": "code",
   "execution_count": 7,
   "metadata": {},
   "outputs": [
    {
     "data": {
      "text/plain": [
       "['1) name [h]; 2) night; 3) characteristic; 4) a med. herb, mark, sign, token, badge, symptom, symbol']"
      ]
     },
     "execution_count": 7,
     "metadata": {},
     "output_type": "execute_result"
    }
   ],
   "source": [
    "dictionaries.query('མཚན་', 'ives_waldo')"
   ]
  },
  {
   "cell_type": "code",
   "execution_count": 6,
   "metadata": {},
   "outputs": [
    {
     "data": {
      "text/plain": [
       "['[s:Buddha] supreme intelligence {1/1 one of སངས་རྒྱས་ཀྱི་མཚན་ (I)}']"
      ]
     },
     "execution_count": 6,
     "metadata": {},
     "output_type": "execute_result"
    }
   ],
   "source": [
    "dictionaries.query('སངས་རྒྱས་', 'mahavyutpatti')"
   ]
  },
  {
   "cell_type": "code",
   "execution_count": 13,
   "metadata": {},
   "outputs": [
    {
     "data": {
      "text/plain": [
       "'༄༅། །བླ་མ་གསང་འདུས་ལས་གསུངས་པའི་ཁྱད་པར་བླ་སྒྲུབ་ཚིག་བདུན་གསོལ་འདེབས་བཞུགས།'"
      ]
     },
     "execution_count": 13,
     "metadata": {},
     "output_type": "execute_result"
    }
   ],
   "source": [
    "\"༄༅། །བླ་མ་གསང་འདུས་ལས་གསུངས་པའི་ཁྱད་པར་བླ་སྒྲུབ་ཚིག་བདུན་གསོལ་འདེབས་བཞུགས།\""
   ]
  },
  {
   "cell_type": "code",
   "execution_count": 30,
   "metadata": {},
   "outputs": [
    {
     "name": "stdout",
     "output_type": "stream",
     "text": [
      "Collecting nltk\n",
      "  Downloading nltk-3.6.2-py3-none-any.whl (1.5 MB)\n",
      "\u001b[K     |████████████████████████████████| 1.5 MB 1.4 MB/s eta 0:00:01\n",
      "\u001b[?25hCollecting regex\n",
      "  Downloading regex-2021.4.4-cp38-cp38-manylinux2014_x86_64.whl (733 kB)\n",
      "\u001b[K     |████████████████████████████████| 733 kB 1.5 MB/s eta 0:00:01\n",
      "\u001b[?25hRequirement already satisfied: joblib in /home/mikko/miniconda3/envs/wip/lib/python3.8/site-packages (from nltk) (0.16.0)\n",
      "Requirement already satisfied: tqdm in /home/mikko/miniconda3/envs/wip/lib/python3.8/site-packages (from nltk) (4.48.2)\n",
      "Requirement already satisfied: click in /home/mikko/miniconda3/envs/wip/lib/python3.8/site-packages (from nltk) (7.1.2)\n",
      "Installing collected packages: regex, nltk\n",
      "Successfully installed nltk-3.6.2 regex-2021.4.4\n"
     ]
    }
   ],
   "source": [
    "!pip install nltk\n",
    "import nltk"
   ]
  },
  {
   "cell_type": "code",
   "execution_count": 68,
   "metadata": {},
   "outputs": [
    {
     "name": "stdout",
     "output_type": "stream",
     "text": [
      "བླ་མ་གསང་འདུས་\n",
      "མ་གསང་འདུས་ལས་\n",
      "གསང་འདུས་ལས་གསུངས་\n",
      "འདུས་ལས་གསུངས་པའི་\n",
      "ལས་གསུངས་པའི་ཁྱད་\n",
      "གསུངས་པའི་ཁྱད་པར་\n",
      "པའི་ཁྱད་པར་བླ་\n",
      "ཁྱད་པར་བླ་སྒྲུབ་\n",
      "པར་བླ་སྒྲུབ་ཚིག་\n",
      "བླ་སྒྲུབ་ཚིག་བདུན་\n",
      "སྒྲུབ་ཚིག་བདུན་གསོལ་\n",
      "ཚིག་བདུན་གསོལ་འདེབས་\n",
      "བདུན་གསོལ་འདེབས་བཞུགས་\n"
     ]
    }
   ],
   "source": [
    "for i in nltk.ngrams(s.split('་'), 4):\n",
    "    print('་'.join(list(i)) + '་')"
   ]
  },
  {
   "cell_type": "code",
   "execution_count": 38,
   "metadata": {},
   "outputs": [],
   "source": [
    "import time"
   ]
  },
  {
   "cell_type": "code",
   "execution_count": 54,
   "metadata": {},
   "outputs": [
    {
     "name": "stdout",
     "output_type": "stream",
     "text": [
      "-0.010022640228271484\n"
     ]
    }
   ],
   "source": [
    "start = time.time()\n",
    "dictionaries.query('བླ་མ་གསང་འདུས་', 'ives_waldo')\n",
    "stop = time.time()\n",
    "print(start - stop)"
   ]
  },
  {
   "cell_type": "code",
   "execution_count": null,
   "metadata": {},
   "outputs": [],
   "source": []
  },
  {
   "cell_type": "code",
   "execution_count": null,
   "metadata": {},
   "outputs": [],
   "source": []
  },
  {
   "cell_type": "code",
   "execution_count": null,
   "metadata": {},
   "outputs": [],
   "source": []
  },
  {
   "cell_type": "code",
   "execution_count": 26,
   "metadata": {},
   "outputs": [],
   "source": [
    "s = 'བླ་མ་གསང་འདུས་ལས་གསུངས་པའི་ཁྱད་པར་བླ་སྒྲུབ་ཚིག་བདུན་གསོལ་འདེབས་བཞུགས'"
   ]
  },
  {
   "cell_type": "code",
   "execution_count": 24,
   "metadata": {},
   "outputs": [
    {
     "data": {
      "text/html": [
       "<div>\n",
       "<style scoped>\n",
       "    .dataframe tbody tr th:only-of-type {\n",
       "        vertical-align: middle;\n",
       "    }\n",
       "\n",
       "    .dataframe tbody tr th {\n",
       "        vertical-align: top;\n",
       "    }\n",
       "\n",
       "    .dataframe thead th {\n",
       "        text-align: right;\n",
       "    }\n",
       "</style>\n",
       "<table border=\"1\" class=\"dataframe\">\n",
       "  <thead>\n",
       "    <tr style=\"text-align: right;\">\n",
       "      <th></th>\n",
       "      <th>Tibetan</th>\n",
       "      <th>Description</th>\n",
       "    </tr>\n",
       "  </thead>\n",
       "  <tbody>\n",
       "    <tr>\n",
       "      <th>21797</th>\n",
       "      <td>བླ་མ་གསང་འདུས་</td>\n",
       "      <td>Lama sangdu [terma of Padmasambhava revealed b...</td>\n",
       "    </tr>\n",
       "  </tbody>\n",
       "</table>\n",
       "</div>"
      ],
      "text/plain": [
       "              Tibetan                                        Description\n",
       "21797  བླ་མ་གསང་འདུས་  Lama sangdu [terma of Padmasambhava revealed b..."
      ]
     },
     "execution_count": 24,
     "metadata": {},
     "output_type": "execute_result"
    }
   ],
   "source": [
    "dictionaries.dictionaries['ives_waldo'][dictionaries.dictionaries['ives_waldo']['Tibetan'].str.contains('བླ་མ་གསང་འདུས་')]"
   ]
  },
  {
   "cell_type": "code",
   "execution_count": null,
   "metadata": {},
   "outputs": [],
   "source": []
  },
  {
   "cell_type": "code",
   "execution_count": 12,
   "metadata": {},
   "outputs": [
    {
     "name": "stdout",
     "output_type": "stream",
     "text": [
      "mahavyutpatti None \n",
      "\n",
      "tony_duff ['{mtshan}༼noun༽ 1) [Hon] of མིང་ meaning the «name / title / appellation / epithet» of something being respected.  2) Abbrev. of མཚན་མོ་ «night». E.g., ཉིན་མཚན་ «day and night». 3) Comm. abbrev. of མཚན་མ་ «mark / sign / symbol / badge / token» etc.  E.g., ཕོ་མཚན་ «male gender / male genitals (the sign of maleness) / male sex». 4) The name of a herb used as a medicine.'] \n",
      "\n",
      "erik_pema_kunsang ['night, name, mark or sign, token, badge, symptom; མཚན་མ། 1) mark, sign, symbol. adj. symbolic. 2) [(h). fo མིང name, epithet, appellation, title. 3) reference. 4) sex, gender. 5. night. 6. to be marked; epithet, mark, title, name; major mark of (physical) perfection; name, title '] \n",
      "\n",
      "ives_waldo ['1) name [h]; 2) night; 3) characteristic; 4) a med. herb, mark, sign, token, badge, symptom, symbol'] \n",
      "\n",
      "jeffrey_hopkins ['[E: [s: [c.s: [b:LCh] «nāma» ] [c.s: [b:MSA] «nāman» ] [c.s: [b:C] «nimitta» ] [c.s: [b:C] «rātrau» ] [c.s: [b:MSA] «vyañjana» ] [c.s: [b:C] «vyañjanatā» ] [c.s: [b:MSA] «lakṣaṇa» ] [c.s: [b:MSA] «ya mtshan = adbhuta» ] [c.e: [HP] «name; characteristic(s)༿BJ 38.1༾; night; sign; mark; symptom; sexual sign; name; marked with» ] [c.e: [b:C] «character; by night; genitals» ] [n:see: mtshan ma] ]'] \n",
      "\n",
      "lobsang_monlam ['name; characteristic(s){BJ 38.1}; night; sign; mark; symptom; sexual sign; name; marked with', '{C}character; by night; genitals', 'signatum, 32 marks, epithet, mark, title, name, night, 1 of dus bzhi, token, badge, symptom, shape and peculiar characteristics of separate parts of the body, sex, sexual sign'] \n",
      "\n",
      "tibetan_multi ['[]', ' ༡) མིང་གི་ཞེ་ས།\\xa0 མཚན་འདོགས་པ།\\xa0 ༢) མཚན་མོའི་བསྡུས་ཚིག་༣) མཚན་མའི་བསྡུས་ཚིག་༤) སྔོ་སྨན་ཞིག་', ' ༡) མིང་གི་ཞེ་ས། མཚན་འདོགས་པ། ༢) མཚན་མོའི་བསྡུས་ཚིག་༣) མཚན་མའི་བསྡུས་ཚིག་༤) སྔོ་སྨན་ཞིག་ '] \n",
      "\n",
      "tibetan_medicine None \n",
      "\n",
      "verb_lexicon ['/p.མཚན་ /ps.མཚནད་ མཚན་ /f.མཚན་ /imp.མཚནད་ མཚོན་ /vl. /tr. /synt. [e.a] /m. To ornament, to put on, to wear, to wonder 1. For a mark or sign to be placed upon something. 2. To dress, adorn, decorate To dress, adorn, decorate.'] \n",
      "\n"
     ]
    }
   ],
   "source": [
    "for name in dictionary_names:\n",
    "\n",
    "    print(name, dictionaries.query('མཚན་', name), '\\n')"
   ]
  },
  {
   "cell_type": "code",
   "execution_count": 137,
   "metadata": {},
   "outputs": [],
   "source": [
    "def wylie_to_tibetan(wylie_string):\n",
    "    \n",
    "    '''Takes in string, and converts to Tibetan following Wylie rules.\n",
    "    Adds Tsek between syllables and after the last syllable.'''\n",
    "\n",
    "    from tibetan_lookup.wylie import Wylie\n",
    "\n",
    "    warn = []\n",
    "    \n",
    "    return (Wylie().fromWylie(wylie_string, warn)) + '་'\n",
    "\n",
    "\n",
    "def check_wylie(string):\n",
    "    \n",
    "    '''Unless string is Tibetan Unicode, assume it is Wylie and\n",
    "    perform conversion to Tibetan. \n",
    "\n",
    "    string | str | some text\n",
    "\n",
    "    Example:\n",
    "    \n",
    "        check_wylie('thabs')\n",
    "    '''\n",
    "\n",
    "    import re\n",
    "    \n",
    "    if len(re.findall(r'[\\u0f00-\\u0fff]+', string)) > 0:\n",
    "        return string\n",
    "    else:\n",
    "        return wylie_to_tibetan(string)"
   ]
  }
 ],
 "metadata": {
  "kernelspec": {
   "display_name": "Python 3",
   "language": "python",
   "name": "python3"
  },
  "language_info": {
   "codemirror_mode": {
    "name": "ipython",
    "version": 3
   },
   "file_extension": ".py",
   "mimetype": "text/x-python",
   "name": "python",
   "nbconvert_exporter": "python",
   "pygments_lexer": "ipython3",
   "version": "3.8.5"
  }
 },
 "nbformat": 4,
 "nbformat_minor": 4
}
